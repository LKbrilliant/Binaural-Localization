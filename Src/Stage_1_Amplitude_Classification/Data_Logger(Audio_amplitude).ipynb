{
 "cells": [
  {
   "cell_type": "markdown",
   "metadata": {},
   "source": [
    "# Data Logger[Averaging Method]\n",
    "- Need Python 3.7 for firmata4 - use the kernel | Python[conda env:tensorflow_2]\n",
    "- pymata4 v1.1\n",
    "- To install 'Firmata Express' on arduino follow [this](https://mryslab.github.io/pymata4/firmata_express).(*Need to install 'Ultrasonic' library*)"
   ]
  },
  {
   "cell_type": "code",
   "execution_count": 1,
   "metadata": {},
   "outputs": [
    {
     "name": "stdout",
     "output_type": "stream",
     "text": [
      "3.7.4\n"
     ]
    }
   ],
   "source": [
    "from platform import python_version\n",
    "print(python_version())"
   ]
  },
  {
   "cell_type": "code",
   "execution_count": 1,
   "metadata": {
    "scrolled": true
   },
   "outputs": [
    {
     "name": "stdout",
     "output_type": "stream",
     "text": [
      "Last record: [ ID = 1800 ] ['10920.75', '17230.9375', '4']\n"
     ]
    }
   ],
   "source": [
    "# Date : 11.04.2020\n",
    "# version : 0.3.200411\n",
    "# Simple averaging method\n",
    "# > bug: when the position of the sound source change, \n",
    "#        the first 5-6 values sometimes remain cloase to the previous levels\n",
    "# > solutions: > appending data to an array and averaging only suitable ones\n",
    "#              > use numpy averaging method/ standard diviation method...\n",
    "\n",
    "import csv\n",
    "import pyaudio\n",
    "import numpy as np\n",
    "import time\n",
    "import keyboard\n",
    "from pymata4 import pymata4\n",
    "from IPython.display import clear_output\n",
    "\n",
    "direction = 4  # L=0, R=1, F=2, B=3, U=4, D=5\n",
    "\n",
    "DIGITAL_PIN = 2\n",
    "TONE_PIN = 3\n",
    "\n",
    "count = 21     # Since the RATE=44100 and CHUNK=1024, the maximum allowed count = 43/second\n",
    "\n",
    "CHUNK = 1024\n",
    "RATE = 44100\n",
    "CHANNELS = 2\n",
    "FORMAT = pyaudio.paInt16\n",
    "\n",
    "p = pyaudio.PyAudio()\n",
    "stream = p.open(format = FORMAT,\n",
    "                channels = CHANNELS,\n",
    "                rate = RATE,\n",
    "                input = True, \n",
    "                frames_per_buffer = CHUNK)\n",
    "\n",
    "def the_callback(data):\n",
    "    if data[2]:                                    # If the value of the button press is HIGH\n",
    "        clear_output(wait = True)\n",
    "        maxL = []\n",
    "        maxR = []\n",
    "        board.play_tone(TONE_PIN, 256, 1000)\n",
    "        for i in range(count):\n",
    "            data = np.fromstring(stream.read(CHUNK),dtype = np.int16)\n",
    "            rawL = data[0::2]\n",
    "            rawR = data[1::2]            \n",
    "            #print(np.abs(np.max(rawL)),'-', np.abs(np.max(rawR)))\n",
    "            maxL.append(np.abs(np.max(rawL)))\n",
    "            maxR.append(np.abs(np.max(rawR)))\n",
    "              \n",
    "        left = np.average(maxL[5:])                # Average by removing the first 5 indicies\n",
    "        right = np.average(maxR[5:])\n",
    "        \n",
    "        row = [left, right, direction]\n",
    "        with open('data.csv', 'a', newline = '') as csvFile:\n",
    "            writer = csv.writer(csvFile)\n",
    "            writer.writerow(row)\n",
    "            \n",
    "        with open('data.csv', \"r\") as csvfile:     # Print the last recorded value \n",
    "            read = csv.reader(csvfile)\n",
    "            data = list(read)\n",
    "            idx = len(data)\n",
    "            print('Last record:','[ ID =',idx,']',data[idx-1])\n",
    "             \n",
    "board = pymata4.Pymata4()\n",
    "board.set_pin_mode_tone(TONE_PIN)\n",
    "board.set_pin_mode_digital_input(DIGITAL_PIN, callback = the_callback)\n",
    "\n",
    "while True:      \n",
    "    if keyboard.is_pressed('Esc'):\n",
    "        stream.stop_stream()\n",
    "        stream.close()\n",
    "        p.terminate()\n",
    "        board.shutdown()\n",
    "        break"
   ]
  },
  {
   "cell_type": "code",
   "execution_count": null,
   "metadata": {},
   "outputs": [],
   "source": []
  }
 ],
 "metadata": {
  "kernelspec": {
   "display_name": "Python 3",
   "language": "python",
   "name": "python3"
  },
  "language_info": {
   "codemirror_mode": {
    "name": "ipython",
    "version": 3
   },
   "file_extension": ".py",
   "mimetype": "text/x-python",
   "name": "python",
   "nbconvert_exporter": "python",
   "pygments_lexer": "ipython3",
   "version": "3.7.6"
  }
 },
 "nbformat": 4,
 "nbformat_minor": 2
}
