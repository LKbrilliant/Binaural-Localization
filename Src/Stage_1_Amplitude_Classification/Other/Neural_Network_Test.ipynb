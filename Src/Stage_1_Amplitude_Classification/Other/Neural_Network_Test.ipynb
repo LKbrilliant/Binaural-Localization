{
 "cells": [
  {
   "cell_type": "markdown",
   "metadata": {},
   "source": [
    "# Simple Feed forward Neural Network (using pandas dataframe)"
   ]
  },
  {
   "cell_type": "code",
   "execution_count": 1,
   "metadata": {},
   "outputs": [
    {
     "name": "stdout",
     "output_type": "stream",
     "text": [
      "Tensorflow version: 2.1.0\n"
     ]
    }
   ],
   "source": [
    "import pandas as pd\n",
    "import numpy as np\n",
    "import tensorflow as tf\n",
    "import matplotlib.pyplot as plt\n",
    "from sklearn.model_selection import train_test_split\n",
    "from sklearn.preprocessing import StandardScaler\n",
    "\n",
    "print('Tensorflow version:',tf.__version__)"
   ]
  },
  {
   "cell_type": "markdown",
   "metadata": {},
   "source": [
    "### 1.0 Preprocessing"
   ]
  },
  {
   "cell_type": "code",
   "execution_count": 2,
   "metadata": {},
   "outputs": [
    {
     "name": "stdout",
     "output_type": "stream",
     "text": [
      "Total examples = 1199\n",
      "Unique Labels - ['Left' 'Right' 'Front' 'Back']\n",
      "Coulmn headers - ['LEFT', 'RIGHT', 'DIRECTION']\n"
     ]
    },
    {
     "data": {
      "text/html": [
       "<div>\n",
       "<style scoped>\n",
       "    .dataframe tbody tr th:only-of-type {\n",
       "        vertical-align: middle;\n",
       "    }\n",
       "\n",
       "    .dataframe tbody tr th {\n",
       "        vertical-align: top;\n",
       "    }\n",
       "\n",
       "    .dataframe thead th {\n",
       "        text-align: right;\n",
       "    }\n",
       "</style>\n",
       "<table border=\"1\" class=\"dataframe\">\n",
       "  <thead>\n",
       "    <tr style=\"text-align: right;\">\n",
       "      <th></th>\n",
       "      <th>LEFT</th>\n",
       "      <th>RIGHT</th>\n",
       "      <th>DIRECTION</th>\n",
       "    </tr>\n",
       "  </thead>\n",
       "  <tbody>\n",
       "    <tr>\n",
       "      <th>0</th>\n",
       "      <td>24216.0000</td>\n",
       "      <td>11725.0625</td>\n",
       "      <td>Left</td>\n",
       "    </tr>\n",
       "    <tr>\n",
       "      <th>1</th>\n",
       "      <td>20136.6875</td>\n",
       "      <td>5417.7500</td>\n",
       "      <td>Left</td>\n",
       "    </tr>\n",
       "    <tr>\n",
       "      <th>2</th>\n",
       "      <td>19683.2500</td>\n",
       "      <td>9222.5625</td>\n",
       "      <td>Left</td>\n",
       "    </tr>\n",
       "    <tr>\n",
       "      <th>3</th>\n",
       "      <td>18785.6250</td>\n",
       "      <td>5948.8125</td>\n",
       "      <td>Left</td>\n",
       "    </tr>\n",
       "    <tr>\n",
       "      <th>4</th>\n",
       "      <td>20489.8125</td>\n",
       "      <td>7541.1250</td>\n",
       "      <td>Left</td>\n",
       "    </tr>\n",
       "  </tbody>\n",
       "</table>\n",
       "</div>"
      ],
      "text/plain": [
       "         LEFT       RIGHT DIRECTION\n",
       "0  24216.0000  11725.0625      Left\n",
       "1  20136.6875   5417.7500      Left\n",
       "2  19683.2500   9222.5625      Left\n",
       "3  18785.6250   5948.8125      Left\n",
       "4  20489.8125   7541.1250      Left"
      ]
     },
     "execution_count": 2,
     "metadata": {},
     "output_type": "execute_result"
    }
   ],
   "source": [
    "# Load the data from a single CSV file\n",
    "dataframe = pd.read_csv('data(4-directions).csv')\n",
    "\n",
    "print('Total examples =', len(dataframe))\n",
    "print('Unique Labels -',dataframe.DIRECTION.unique())\n",
    "print('Coulmn headers -',list(dataframe.columns.values))\n",
    "\n",
    "dataframe.head()"
   ]
  },
  {
   "cell_type": "markdown",
   "metadata": {},
   "source": [
    "### 1.1 Convert string type columns into numerical"
   ]
  },
  {
   "cell_type": "code",
   "execution_count": 3,
   "metadata": {
    "scrolled": true
   },
   "outputs": [
    {
     "data": {
      "text/html": [
       "<div>\n",
       "<style scoped>\n",
       "    .dataframe tbody tr th:only-of-type {\n",
       "        vertical-align: middle;\n",
       "    }\n",
       "\n",
       "    .dataframe tbody tr th {\n",
       "        vertical-align: top;\n",
       "    }\n",
       "\n",
       "    .dataframe thead th {\n",
       "        text-align: right;\n",
       "    }\n",
       "</style>\n",
       "<table border=\"1\" class=\"dataframe\">\n",
       "  <thead>\n",
       "    <tr style=\"text-align: right;\">\n",
       "      <th></th>\n",
       "      <th>LEFT</th>\n",
       "      <th>RIGHT</th>\n",
       "      <th>DIRECTION</th>\n",
       "    </tr>\n",
       "  </thead>\n",
       "  <tbody>\n",
       "    <tr>\n",
       "      <th>0</th>\n",
       "      <td>24216.0000</td>\n",
       "      <td>11725.0625</td>\n",
       "      <td>2</td>\n",
       "    </tr>\n",
       "    <tr>\n",
       "      <th>1</th>\n",
       "      <td>20136.6875</td>\n",
       "      <td>5417.7500</td>\n",
       "      <td>2</td>\n",
       "    </tr>\n",
       "    <tr>\n",
       "      <th>2</th>\n",
       "      <td>19683.2500</td>\n",
       "      <td>9222.5625</td>\n",
       "      <td>2</td>\n",
       "    </tr>\n",
       "    <tr>\n",
       "      <th>3</th>\n",
       "      <td>18785.6250</td>\n",
       "      <td>5948.8125</td>\n",
       "      <td>2</td>\n",
       "    </tr>\n",
       "    <tr>\n",
       "      <th>4</th>\n",
       "      <td>20489.8125</td>\n",
       "      <td>7541.1250</td>\n",
       "      <td>2</td>\n",
       "    </tr>\n",
       "  </tbody>\n",
       "</table>\n",
       "</div>"
      ],
      "text/plain": [
       "         LEFT       RIGHT  DIRECTION\n",
       "0  24216.0000  11725.0625          2\n",
       "1  20136.6875   5417.7500          2\n",
       "2  19683.2500   9222.5625          2\n",
       "3  18785.6250   5948.8125          2\n",
       "4  20489.8125   7541.1250          2"
      ]
     },
     "execution_count": 3,
     "metadata": {},
     "output_type": "execute_result"
    }
   ],
   "source": [
    "dataframe.DIRECTION = dataframe.DIRECTION.astype(\"category\").cat.codes\n",
    "dataframe.head()"
   ]
  },
  {
   "cell_type": "code",
   "execution_count": 4,
   "metadata": {},
   "outputs": [
    {
     "data": {
      "text/html": [
       "<div>\n",
       "<style scoped>\n",
       "    .dataframe tbody tr th:only-of-type {\n",
       "        vertical-align: middle;\n",
       "    }\n",
       "\n",
       "    .dataframe tbody tr th {\n",
       "        vertical-align: top;\n",
       "    }\n",
       "\n",
       "    .dataframe thead th {\n",
       "        text-align: right;\n",
       "    }\n",
       "</style>\n",
       "<table border=\"1\" class=\"dataframe\">\n",
       "  <thead>\n",
       "    <tr style=\"text-align: right;\">\n",
       "      <th></th>\n",
       "      <th>LEFT</th>\n",
       "      <th>RIGHT</th>\n",
       "      <th>DIRECTION</th>\n",
       "    </tr>\n",
       "  </thead>\n",
       "  <tbody>\n",
       "    <tr>\n",
       "      <th>0</th>\n",
       "      <td>2.119434</td>\n",
       "      <td>-0.342036</td>\n",
       "      <td>2</td>\n",
       "    </tr>\n",
       "    <tr>\n",
       "      <th>1</th>\n",
       "      <td>1.376200</td>\n",
       "      <td>-1.636743</td>\n",
       "      <td>2</td>\n",
       "    </tr>\n",
       "    <tr>\n",
       "      <th>2</th>\n",
       "      <td>1.293586</td>\n",
       "      <td>-0.855726</td>\n",
       "      <td>2</td>\n",
       "    </tr>\n",
       "    <tr>\n",
       "      <th>3</th>\n",
       "      <td>1.130042</td>\n",
       "      <td>-1.527731</td>\n",
       "      <td>2</td>\n",
       "    </tr>\n",
       "    <tr>\n",
       "      <th>4</th>\n",
       "      <td>1.440538</td>\n",
       "      <td>-1.200876</td>\n",
       "      <td>2</td>\n",
       "    </tr>\n",
       "  </tbody>\n",
       "</table>\n",
       "</div>"
      ],
      "text/plain": [
       "       LEFT     RIGHT  DIRECTION\n",
       "0  2.119434 -0.342036          2\n",
       "1  1.376200 -1.636743          2\n",
       "2  1.293586 -0.855726          2\n",
       "3  1.130042 -1.527731          2\n",
       "4  1.440538 -1.200876          2"
      ]
     },
     "execution_count": 4,
     "metadata": {},
     "output_type": "execute_result"
    }
   ],
   "source": [
    "# # Standardizing.\n",
    "dataframe[['LEFT', 'RIGHT']] = StandardScaler().fit_transform(dataframe[['LEFT', 'RIGHT']])\n",
    "dataframe.head()"
   ]
  },
  {
   "cell_type": "markdown",
   "metadata": {},
   "source": [
    "### 1.2 Split the dataframe into ``train`` and `test`"
   ]
  },
  {
   "cell_type": "code",
   "execution_count": 15,
   "metadata": {
    "scrolled": true
   },
   "outputs": [
    {
     "name": "stdout",
     "output_type": "stream",
     "text": [
      "Train examples = 767\n",
      "Test examples 240\n",
      "Validation examples 192\n"
     ]
    },
    {
     "data": {
      "text/html": [
       "<div>\n",
       "<style scoped>\n",
       "    .dataframe tbody tr th:only-of-type {\n",
       "        vertical-align: middle;\n",
       "    }\n",
       "\n",
       "    .dataframe tbody tr th {\n",
       "        vertical-align: top;\n",
       "    }\n",
       "\n",
       "    .dataframe thead th {\n",
       "        text-align: right;\n",
       "    }\n",
       "</style>\n",
       "<table border=\"1\" class=\"dataframe\">\n",
       "  <thead>\n",
       "    <tr style=\"text-align: right;\">\n",
       "      <th></th>\n",
       "      <th>LEFT</th>\n",
       "      <th>RIGHT</th>\n",
       "      <th>DIRECTION</th>\n",
       "    </tr>\n",
       "  </thead>\n",
       "  <tbody>\n",
       "    <tr>\n",
       "      <th>176</th>\n",
       "      <td>1.933333</td>\n",
       "      <td>-1.745164</td>\n",
       "      <td>2</td>\n",
       "    </tr>\n",
       "    <tr>\n",
       "      <th>411</th>\n",
       "      <td>-1.113335</td>\n",
       "      <td>1.992701</td>\n",
       "      <td>3</td>\n",
       "    </tr>\n",
       "    <tr>\n",
       "      <th>600</th>\n",
       "      <td>0.418898</td>\n",
       "      <td>1.289174</td>\n",
       "      <td>1</td>\n",
       "    </tr>\n",
       "    <tr>\n",
       "      <th>377</th>\n",
       "      <td>-1.562562</td>\n",
       "      <td>2.051652</td>\n",
       "      <td>3</td>\n",
       "    </tr>\n",
       "    <tr>\n",
       "      <th>1050</th>\n",
       "      <td>-0.270998</td>\n",
       "      <td>1.196867</td>\n",
       "      <td>0</td>\n",
       "    </tr>\n",
       "  </tbody>\n",
       "</table>\n",
       "</div>"
      ],
      "text/plain": [
       "          LEFT     RIGHT  DIRECTION\n",
       "176   1.933333 -1.745164          2\n",
       "411  -1.113335  1.992701          3\n",
       "600   0.418898  1.289174          1\n",
       "377  -1.562562  2.051652          3\n",
       "1050 -0.270998  1.196867          0"
      ]
     },
     "execution_count": 15,
     "metadata": {},
     "output_type": "execute_result"
    }
   ],
   "source": [
    "train, test = train_test_split(dataframe, test_size=0.2)\n",
    "train, val = train_test_split(train,test_size=0.2)\n",
    "\n",
    "print('Train examples =', len(train))\n",
    "print('Test examples', len(test))\n",
    "print('Validation examples', len(val))\n",
    "\n",
    "train.head()"
   ]
  },
  {
   "cell_type": "markdown",
   "metadata": {},
   "source": [
    "### 1.3 Convert ``dataframe`` into ``dataset`` using ``tf.data`` "
   ]
  },
  {
   "cell_type": "code",
   "execution_count": 6,
   "metadata": {},
   "outputs": [],
   "source": [
    "def df_to_dataset(dataframe, shuffle=True, batch_size=32):\n",
    "    dataframe = dataframe.copy()\n",
    "    label = dataframe.pop('DIRECTION')\n",
    "    ds = tf.data.Dataset.from_tensor_slices((dataframe.values, label.values))\n",
    "    if shuffle:\n",
    "        ds = ds.shuffle(buffer_size=len(dataframe))\n",
    "    ds = ds.batch(batch_size)\n",
    "    return ds"
   ]
  },
  {
   "cell_type": "code",
   "execution_count": 16,
   "metadata": {},
   "outputs": [],
   "source": [
    "batch_size = 5\n",
    "train_ds = df_to_dataset(train, batch_size=batch_size)\n",
    "val_ds = df_to_dataset(val, shuffle=False, batch_size=batch_size)\n",
    "test_ds = df_to_dataset(test, shuffle=False, batch_size=batch_size)"
   ]
  },
  {
   "cell_type": "code",
   "execution_count": 8,
   "metadata": {},
   "outputs": [
    {
     "name": "stdout",
     "output_type": "stream",
     "text": [
      "tf.Tensor(\n",
      "[[-1.03772373  1.085366  ]\n",
      " [-0.39774943  0.21442777]\n",
      " [-0.54057959  0.26503984]\n",
      " [ 0.07975172 -0.73840066]\n",
      " [ 0.65139119  0.99685581]], shape=(5, 2), dtype=float64)\n",
      "tf.Tensor([3 0 1 1 1], shape=(5,), dtype=int8)\n"
     ]
    }
   ],
   "source": [
    "features, labels = next(iter(train_ds))\n",
    "\n",
    "print(features)\n",
    "print(labels)"
   ]
  },
  {
   "cell_type": "markdown",
   "metadata": {},
   "source": [
    "### 2.0 Compile and train a Neural Network"
   ]
  },
  {
   "cell_type": "code",
   "execution_count": 9,
   "metadata": {
    "scrolled": true
   },
   "outputs": [
    {
     "name": "stdout",
     "output_type": "stream",
     "text": [
      "Train for 154 steps, validate for 39 steps\n",
      "Epoch 1/100\n",
      "154/154 [==============================] - 1s 5ms/step - loss: 1.3194 - accuracy: 0.3898 - val_loss: 1.1532 - val_accuracy: 0.5104\n",
      "Epoch 2/100\n",
      "154/154 [==============================] - 0s 2ms/step - loss: 1.0963 - accuracy: 0.5385 - val_loss: 0.9296 - val_accuracy: 0.6354\n",
      "Epoch 3/100\n",
      "154/154 [==============================] - 0s 2ms/step - loss: 0.9150 - accuracy: 0.6050 - val_loss: 0.8020 - val_accuracy: 0.6615\n",
      "Epoch 4/100\n",
      "154/154 [==============================] - 0s 2ms/step - loss: 0.8244 - accuracy: 0.6271 - val_loss: 0.7282 - val_accuracy: 0.7135\n",
      "Epoch 5/100\n",
      "154/154 [==============================] - 0s 2ms/step - loss: 0.7687 - accuracy: 0.6506 - val_loss: 0.6758 - val_accuracy: 0.7344\n",
      "Epoch 6/100\n",
      "154/154 [==============================] - 0s 2ms/step - loss: 0.7295 - accuracy: 0.6819 - val_loss: 0.6358 - val_accuracy: 0.7656\n",
      "Epoch 7/100\n",
      "154/154 [==============================] - 0s 2ms/step - loss: 0.6981 - accuracy: 0.7001 - val_loss: 0.6002 - val_accuracy: 0.7708\n",
      "Epoch 8/100\n",
      "154/154 [==============================] - 0s 2ms/step - loss: 0.6673 - accuracy: 0.7119 - val_loss: 0.5674 - val_accuracy: 0.7812\n",
      "Epoch 9/100\n",
      "154/154 [==============================] - 0s 2ms/step - loss: 0.6417 - accuracy: 0.7366 - val_loss: 0.5335 - val_accuracy: 0.8229\n",
      "Epoch 10/100\n",
      "154/154 [==============================] - 0s 2ms/step - loss: 0.6133 - accuracy: 0.7458 - val_loss: 0.5056 - val_accuracy: 0.8281\n",
      "Epoch 11/100\n",
      "154/154 [==============================] - 0s 2ms/step - loss: 0.5942 - accuracy: 0.7601 - val_loss: 0.4833 - val_accuracy: 0.8385\n",
      "Epoch 12/100\n",
      "154/154 [==============================] - 0s 2ms/step - loss: 0.5775 - accuracy: 0.7614 - val_loss: 0.4648 - val_accuracy: 0.8490\n",
      "Epoch 13/100\n",
      "154/154 [==============================] - 0s 2ms/step - loss: 0.5640 - accuracy: 0.7666 - val_loss: 0.4496 - val_accuracy: 0.8490\n",
      "Epoch 14/100\n",
      "154/154 [==============================] - 0s 1ms/step - loss: 0.5557 - accuracy: 0.7757 - val_loss: 0.4392 - val_accuracy: 0.8333\n",
      "Epoch 15/100\n",
      "154/154 [==============================] - 0s 1ms/step - loss: 0.5489 - accuracy: 0.7692 - val_loss: 0.4290 - val_accuracy: 0.8333\n",
      "Epoch 16/100\n",
      "154/154 [==============================] - 0s 1ms/step - loss: 0.5406 - accuracy: 0.7731 - val_loss: 0.4214 - val_accuracy: 0.8438\n",
      "Epoch 17/100\n",
      "154/154 [==============================] - 0s 1ms/step - loss: 0.5391 - accuracy: 0.7705 - val_loss: 0.4153 - val_accuracy: 0.8333\n",
      "Epoch 18/100\n",
      "154/154 [==============================] - 0s 2ms/step - loss: 0.5405 - accuracy: 0.7692 - val_loss: 0.4079 - val_accuracy: 0.8333\n",
      "Epoch 19/100\n",
      "154/154 [==============================] - 0s 2ms/step - loss: 0.5275 - accuracy: 0.7705 - val_loss: 0.4064 - val_accuracy: 0.8438\n",
      "Epoch 20/100\n",
      "154/154 [==============================] - 0s 1ms/step - loss: 0.5251 - accuracy: 0.7757 - val_loss: 0.4015 - val_accuracy: 0.8385\n",
      "Epoch 21/100\n",
      "154/154 [==============================] - 0s 2ms/step - loss: 0.5272 - accuracy: 0.7731 - val_loss: 0.3982 - val_accuracy: 0.8385\n",
      "Epoch 22/100\n",
      "154/154 [==============================] - 0s 1ms/step - loss: 0.5224 - accuracy: 0.7771 - val_loss: 0.3957 - val_accuracy: 0.8385\n",
      "Epoch 23/100\n",
      "154/154 [==============================] - 0s 1ms/step - loss: 0.5243 - accuracy: 0.7771 - val_loss: 0.3926 - val_accuracy: 0.8438\n",
      "Epoch 24/100\n",
      "154/154 [==============================] - 0s 1ms/step - loss: 0.5199 - accuracy: 0.7771 - val_loss: 0.3904 - val_accuracy: 0.8438\n",
      "Epoch 25/100\n",
      "154/154 [==============================] - 0s 1ms/step - loss: 0.5208 - accuracy: 0.7771 - val_loss: 0.3887 - val_accuracy: 0.8438\n",
      "Epoch 26/100\n",
      "154/154 [==============================] - 0s 1ms/step - loss: 0.5167 - accuracy: 0.7797 - val_loss: 0.3877 - val_accuracy: 0.8438\n",
      "Epoch 27/100\n",
      "154/154 [==============================] - 0s 1ms/step - loss: 0.5161 - accuracy: 0.7771 - val_loss: 0.3869 - val_accuracy: 0.8542\n",
      "Epoch 28/100\n",
      "154/154 [==============================] - 0s 1ms/step - loss: 0.5141 - accuracy: 0.7771 - val_loss: 0.3847 - val_accuracy: 0.8490\n",
      "Epoch 29/100\n",
      "154/154 [==============================] - 0s 1ms/step - loss: 0.5147 - accuracy: 0.7784 - val_loss: 0.3841 - val_accuracy: 0.8490\n",
      "Epoch 30/100\n",
      "154/154 [==============================] - 0s 1ms/step - loss: 0.5156 - accuracy: 0.7810 - val_loss: 0.3832 - val_accuracy: 0.8490\n",
      "Epoch 31/100\n",
      "154/154 [==============================] - 0s 1ms/step - loss: 0.5146 - accuracy: 0.7771 - val_loss: 0.3829 - val_accuracy: 0.8490\n",
      "Epoch 32/100\n",
      "154/154 [==============================] - 0s 1ms/step - loss: 0.5134 - accuracy: 0.7784 - val_loss: 0.3818 - val_accuracy: 0.8542\n",
      "Epoch 33/100\n",
      "154/154 [==============================] - 0s 1ms/step - loss: 0.5135 - accuracy: 0.7797 - val_loss: 0.3804 - val_accuracy: 0.8490\n",
      "Epoch 34/100\n",
      "154/154 [==============================] - 0s 1ms/step - loss: 0.5110 - accuracy: 0.7797 - val_loss: 0.3798 - val_accuracy: 0.8438\n",
      "Epoch 35/100\n",
      "154/154 [==============================] - 0s 1ms/step - loss: 0.5111 - accuracy: 0.7797 - val_loss: 0.3787 - val_accuracy: 0.8542\n",
      "Epoch 36/100\n",
      "154/154 [==============================] - 0s 1ms/step - loss: 0.5101 - accuracy: 0.7797 - val_loss: 0.3794 - val_accuracy: 0.8594\n",
      "Epoch 37/100\n",
      "154/154 [==============================] - 0s 1ms/step - loss: 0.5120 - accuracy: 0.7823 - val_loss: 0.3803 - val_accuracy: 0.8594\n",
      "Epoch 38/100\n",
      "154/154 [==============================] - 0s 1ms/step - loss: 0.5140 - accuracy: 0.7744 - val_loss: 0.3792 - val_accuracy: 0.8646\n",
      "Epoch 39/100\n",
      "154/154 [==============================] - 0s 1ms/step - loss: 0.5093 - accuracy: 0.7797 - val_loss: 0.3784 - val_accuracy: 0.8542\n",
      "Epoch 40/100\n",
      "154/154 [==============================] - 0s 2ms/step - loss: 0.5152 - accuracy: 0.7797 - val_loss: 0.3783 - val_accuracy: 0.8646\n",
      "Epoch 41/100\n",
      "154/154 [==============================] - 0s 1ms/step - loss: 0.5098 - accuracy: 0.7771 - val_loss: 0.3776 - val_accuracy: 0.8594\n",
      "Epoch 42/100\n",
      "154/154 [==============================] - 0s 1ms/step - loss: 0.5114 - accuracy: 0.7784 - val_loss: 0.3771 - val_accuracy: 0.8594\n",
      "Epoch 43/100\n",
      "154/154 [==============================] - 0s 1ms/step - loss: 0.5124 - accuracy: 0.7797 - val_loss: 0.3765 - val_accuracy: 0.8490\n",
      "Epoch 44/100\n",
      "154/154 [==============================] - 0s 1ms/step - loss: 0.5092 - accuracy: 0.7849 - val_loss: 0.3766 - val_accuracy: 0.8594\n",
      "Epoch 45/100\n",
      "154/154 [==============================] - 0s 1ms/step - loss: 0.5087 - accuracy: 0.7797 - val_loss: 0.3764 - val_accuracy: 0.8594\n",
      "Epoch 46/100\n",
      "154/154 [==============================] - 0s 1ms/step - loss: 0.5133 - accuracy: 0.7771 - val_loss: 0.3750 - val_accuracy: 0.8542\n",
      "Epoch 47/100\n",
      "154/154 [==============================] - 0s 1ms/step - loss: 0.5097 - accuracy: 0.7784 - val_loss: 0.3759 - val_accuracy: 0.8594\n",
      "Epoch 48/100\n",
      "154/154 [==============================] - 0s 1ms/step - loss: 0.5092 - accuracy: 0.7810 - val_loss: 0.3750 - val_accuracy: 0.8594\n",
      "Epoch 49/100\n",
      "154/154 [==============================] - 0s 1ms/step - loss: 0.5118 - accuracy: 0.7797 - val_loss: 0.3744 - val_accuracy: 0.8594\n",
      "Epoch 50/100\n",
      "154/154 [==============================] - 0s 1ms/step - loss: 0.5140 - accuracy: 0.7784 - val_loss: 0.3750 - val_accuracy: 0.8594\n",
      "Epoch 51/100\n",
      "154/154 [==============================] - 0s 1ms/step - loss: 0.5087 - accuracy: 0.7823 - val_loss: 0.3755 - val_accuracy: 0.8594\n",
      "Epoch 52/100\n",
      "154/154 [==============================] - 0s 1ms/step - loss: 0.5096 - accuracy: 0.7823 - val_loss: 0.3753 - val_accuracy: 0.8594\n",
      "Epoch 53/100\n",
      "154/154 [==============================] - 0s 1ms/step - loss: 0.5079 - accuracy: 0.7784 - val_loss: 0.3756 - val_accuracy: 0.8646\n",
      "Epoch 54/100\n",
      "154/154 [==============================] - 0s 1ms/step - loss: 0.5139 - accuracy: 0.7757 - val_loss: 0.3748 - val_accuracy: 0.8594\n",
      "Epoch 55/100\n",
      "154/154 [==============================] - 0s 1ms/step - loss: 0.5161 - accuracy: 0.7810 - val_loss: 0.3750 - val_accuracy: 0.8594\n",
      "Epoch 56/100\n",
      "154/154 [==============================] - 0s 1ms/step - loss: 0.5125 - accuracy: 0.7823 - val_loss: 0.3745 - val_accuracy: 0.8594\n",
      "Epoch 57/100\n",
      "154/154 [==============================] - 0s 1ms/step - loss: 0.5073 - accuracy: 0.7810 - val_loss: 0.3748 - val_accuracy: 0.8594\n",
      "Epoch 58/100\n",
      "154/154 [==============================] - 0s 1ms/step - loss: 0.5080 - accuracy: 0.7771 - val_loss: 0.3749 - val_accuracy: 0.8646\n",
      "Epoch 59/100\n",
      "154/154 [==============================] - 0s 1ms/step - loss: 0.5082 - accuracy: 0.7810 - val_loss: 0.3746 - val_accuracy: 0.8594\n",
      "Epoch 60/100\n",
      "154/154 [==============================] - 0s 1ms/step - loss: 0.5074 - accuracy: 0.7836 - val_loss: 0.3748 - val_accuracy: 0.8646\n",
      "Epoch 61/100\n",
      "154/154 [==============================] - 0s 1ms/step - loss: 0.5087 - accuracy: 0.7823 - val_loss: 0.3732 - val_accuracy: 0.8594\n",
      "Epoch 62/100\n",
      "154/154 [==============================] - 0s 1ms/step - loss: 0.5095 - accuracy: 0.7771 - val_loss: 0.3733 - val_accuracy: 0.8594\n",
      "Epoch 63/100\n",
      "154/154 [==============================] - 0s 1ms/step - loss: 0.5080 - accuracy: 0.7797 - val_loss: 0.3731 - val_accuracy: 0.8594\n",
      "Epoch 64/100\n",
      "154/154 [==============================] - 0s 1ms/step - loss: 0.5100 - accuracy: 0.7810 - val_loss: 0.3731 - val_accuracy: 0.8594\n",
      "Epoch 65/100\n",
      "154/154 [==============================] - 0s 1ms/step - loss: 0.5067 - accuracy: 0.7810 - val_loss: 0.3742 - val_accuracy: 0.8594\n",
      "Epoch 66/100\n",
      "154/154 [==============================] - 0s 1ms/step - loss: 0.5084 - accuracy: 0.7771 - val_loss: 0.3737 - val_accuracy: 0.8646\n",
      "Epoch 67/100\n",
      "154/154 [==============================] - 0s 1ms/step - loss: 0.5070 - accuracy: 0.7771 - val_loss: 0.3727 - val_accuracy: 0.8594\n",
      "Epoch 68/100\n",
      "154/154 [==============================] - 0s 1ms/step - loss: 0.5079 - accuracy: 0.7836 - val_loss: 0.3742 - val_accuracy: 0.8646\n",
      "Epoch 69/100\n",
      "154/154 [==============================] - 0s 1ms/step - loss: 0.5076 - accuracy: 0.7797 - val_loss: 0.3733 - val_accuracy: 0.8594\n",
      "Epoch 70/100\n",
      "154/154 [==============================] - 0s 1ms/step - loss: 0.5074 - accuracy: 0.7823 - val_loss: 0.3730 - val_accuracy: 0.8594\n",
      "Epoch 71/100\n",
      "154/154 [==============================] - 0s 1ms/step - loss: 0.5098 - accuracy: 0.7784 - val_loss: 0.3725 - val_accuracy: 0.8594\n",
      "Epoch 72/100\n",
      "154/154 [==============================] - 0s 1ms/step - loss: 0.5088 - accuracy: 0.7810 - val_loss: 0.3723 - val_accuracy: 0.8594\n",
      "Epoch 73/100\n",
      "154/154 [==============================] - 0s 1ms/step - loss: 0.5088 - accuracy: 0.7823 - val_loss: 0.3726 - val_accuracy: 0.8646\n",
      "Epoch 74/100\n",
      "154/154 [==============================] - 0s 1ms/step - loss: 0.5080 - accuracy: 0.7810 - val_loss: 0.3729 - val_accuracy: 0.8646\n",
      "Epoch 75/100\n",
      "154/154 [==============================] - 0s 1ms/step - loss: 0.5096 - accuracy: 0.7823 - val_loss: 0.3719 - val_accuracy: 0.8594\n",
      "Epoch 76/100\n",
      "154/154 [==============================] - 0s 1ms/step - loss: 0.5114 - accuracy: 0.7810 - val_loss: 0.3731 - val_accuracy: 0.8646\n",
      "Epoch 77/100\n",
      "154/154 [==============================] - 0s 1ms/step - loss: 0.5078 - accuracy: 0.7836 - val_loss: 0.3728 - val_accuracy: 0.8594\n",
      "Epoch 78/100\n",
      "154/154 [==============================] - 0s 1ms/step - loss: 0.5069 - accuracy: 0.7810 - val_loss: 0.3723 - val_accuracy: 0.8594\n",
      "Epoch 79/100\n",
      "154/154 [==============================] - 0s 1ms/step - loss: 0.5065 - accuracy: 0.7757 - val_loss: 0.3728 - val_accuracy: 0.8646\n",
      "Epoch 80/100\n",
      "154/154 [==============================] - 0s 1ms/step - loss: 0.5061 - accuracy: 0.7823 - val_loss: 0.3721 - val_accuracy: 0.8594\n",
      "Epoch 81/100\n",
      "154/154 [==============================] - 0s 1ms/step - loss: 0.5091 - accuracy: 0.7836 - val_loss: 0.3725 - val_accuracy: 0.8594\n",
      "Epoch 82/100\n",
      "154/154 [==============================] - 0s 1ms/step - loss: 0.5067 - accuracy: 0.7784 - val_loss: 0.3727 - val_accuracy: 0.8594\n",
      "Epoch 83/100\n",
      "154/154 [==============================] - 0s 1ms/step - loss: 0.5056 - accuracy: 0.7823 - val_loss: 0.3722 - val_accuracy: 0.8646\n",
      "Epoch 84/100\n",
      "154/154 [==============================] - 0s 1ms/step - loss: 0.5093 - accuracy: 0.7797 - val_loss: 0.3725 - val_accuracy: 0.8646\n",
      "Epoch 85/100\n",
      "154/154 [==============================] - 0s 1ms/step - loss: 0.5059 - accuracy: 0.7797 - val_loss: 0.3718 - val_accuracy: 0.8594\n",
      "Epoch 86/100\n",
      "154/154 [==============================] - 0s 1ms/step - loss: 0.5062 - accuracy: 0.7836 - val_loss: 0.3725 - val_accuracy: 0.8646\n",
      "Epoch 87/100\n",
      "154/154 [==============================] - 0s 1ms/step - loss: 0.5077 - accuracy: 0.7797 - val_loss: 0.3717 - val_accuracy: 0.8594\n",
      "Epoch 88/100\n",
      "154/154 [==============================] - 0s 1ms/step - loss: 0.5081 - accuracy: 0.7810 - val_loss: 0.3715 - val_accuracy: 0.8594\n",
      "Epoch 89/100\n",
      "154/154 [==============================] - 0s 1ms/step - loss: 0.5065 - accuracy: 0.7810 - val_loss: 0.3720 - val_accuracy: 0.8594\n",
      "Epoch 90/100\n",
      "154/154 [==============================] - 0s 1ms/step - loss: 0.5082 - accuracy: 0.7810 - val_loss: 0.3729 - val_accuracy: 0.8594\n",
      "Epoch 91/100\n",
      "154/154 [==============================] - 0s 1ms/step - loss: 0.5054 - accuracy: 0.7810 - val_loss: 0.3716 - val_accuracy: 0.8594\n",
      "Epoch 92/100\n",
      "154/154 [==============================] - 0s 1ms/step - loss: 0.5052 - accuracy: 0.7797 - val_loss: 0.3713 - val_accuracy: 0.8594\n",
      "Epoch 93/100\n",
      "154/154 [==============================] - 0s 1ms/step - loss: 0.5068 - accuracy: 0.7836 - val_loss: 0.3719 - val_accuracy: 0.8594\n",
      "Epoch 94/100\n",
      "154/154 [==============================] - 0s 1ms/step - loss: 0.5067 - accuracy: 0.7810 - val_loss: 0.3734 - val_accuracy: 0.8646\n",
      "Epoch 95/100\n",
      "154/154 [==============================] - 0s 1ms/step - loss: 0.5057 - accuracy: 0.7810 - val_loss: 0.3738 - val_accuracy: 0.8646\n",
      "Epoch 96/100\n",
      "154/154 [==============================] - 0s 1ms/step - loss: 0.5050 - accuracy: 0.7836 - val_loss: 0.3724 - val_accuracy: 0.8646\n",
      "Epoch 97/100\n",
      "154/154 [==============================] - 0s 1ms/step - loss: 0.5053 - accuracy: 0.7823 - val_loss: 0.3724 - val_accuracy: 0.8594\n",
      "Epoch 98/100\n",
      "154/154 [==============================] - 0s 1ms/step - loss: 0.5061 - accuracy: 0.7836 - val_loss: 0.3735 - val_accuracy: 0.8646\n",
      "Epoch 99/100\n",
      "154/154 [==============================] - 0s 1ms/step - loss: 0.5056 - accuracy: 0.7797 - val_loss: 0.3734 - val_accuracy: 0.8646\n",
      "Epoch 100/100\n",
      "154/154 [==============================] - 0s 1ms/step - loss: 0.5118 - accuracy: 0.7797 - val_loss: 0.3724 - val_accuracy: 0.8646\n"
     ]
    }
   ],
   "source": [
    "# Single layer approach ~80% accuracy\n",
    "model = tf.keras.Sequential([\n",
    "    tf.keras.layers.Dense(8, input_shape=(2,), activation='relu'),\n",
    "    tf.keras.layers.Dense(4, activation='softmax')\n",
    "])\n",
    "\n",
    "model.compile(optimizer='adam',\n",
    "              loss='sparse_categorical_crossentropy',\n",
    "              metrics=['accuracy'])\n",
    "\n",
    "r = model.fit(train_ds,\n",
    "              validation_data=val_ds,\n",
    "              epochs=100,)"
   ]
  },
  {
   "cell_type": "code",
   "execution_count": 10,
   "metadata": {},
   "outputs": [
    {
     "data": {
      "image/png": "[encoded data removed]",
      "text/plain": [
       "<Figure size 1152x360 with 2 Axes>"
      ]
     },
     "metadata": {
      "needs_background": "light"
     },
     "output_type": "display_data"
    }
   ],
   "source": [
    "fig, (ax1,ax2) = plt.subplots(1, 2, figsize=(16,5))\n",
    "ax1.plot(r.history['loss'], label='loss')\n",
    "ax1.plot(r.history['val_loss'], label='val_loss')\n",
    "ax1.legend()\n",
    "ax1.set_title(\"Loss per iteration\")\n",
    "ax2.plot(r.history['accuracy'], label='acc')\n",
    "ax2.plot(r.history['val_accuracy'], label='val_acc')\n",
    "ax2.set_title(\"Accuracy\")\n",
    "ax2.legend()\n",
    "for ax in fig.get_axes():\n",
    "    ax.label_outer()\n",
    "plt.show()"
   ]
  },
  {
   "cell_type": "markdown",
   "metadata": {},
   "source": [
    "### 2.1 Accuracy on the Test dataset"
   ]
  },
  {
   "cell_type": "code",
   "execution_count": 11,
   "metadata": {},
   "outputs": [
    {
     "name": "stdout",
     "output_type": "stream",
     "text": [
      "39/39 - 0s - loss: 0.3724 - accuracy: 0.8646\n",
      "Accuracy 86.458%\n"
     ]
    }
   ],
   "source": [
    "loss, accuracy = model.evaluate(val_ds, verbose=2)\n",
    "print(\"Accuracy {:.3%}\".format(accuracy))"
   ]
  },
  {
   "cell_type": "markdown",
   "metadata": {},
   "source": [
    "### 3.0 Make predictions"
   ]
  },
  {
   "cell_type": "code",
   "execution_count": 34,
   "metadata": {},
   "outputs": [],
   "source": [
    "predictions = model.predict(train_ds)"
   ]
  },
  {
   "cell_type": "code",
   "execution_count": 37,
   "metadata": {},
   "outputs": [
    {
     "data": {
      "text/plain": [
       "array([2.2226483e-01, 2.1934105e-02, 9.2943537e-07, 7.5580019e-01],\n",
       "      dtype=float32)"
      ]
     },
     "execution_count": 37,
     "metadata": {},
     "output_type": "execute_result"
    }
   ],
   "source": [
    "predictions[2]"
   ]
  },
  {
   "cell_type": "markdown",
   "metadata": {},
   "source": [
    "### 4.0 Saving the Model"
   ]
  },
  {
   "cell_type": "code",
   "execution_count": 14,
   "metadata": {},
   "outputs": [],
   "source": [
    "model.save('Trained_Models/6_DirectionClassifier.h5')"
   ]
  },
  {
   "cell_type": "markdown",
   "metadata": {},
   "source": [
    "### 5.0 Loading a saved Model\n",
    "- This may throw an error if you explicitly create an INPUT layer. If that's the case use the following method\n",
    "```\n",
    "# This creats one dense layer with input shape of 2\n",
    "model = tf.keras.models.Sequential()\n",
    "model.add(tf.keras.layers.Dense(1, input_shape=(2,), activation='sigmoid'))\n",
    "```"
   ]
  },
  {
   "cell_type": "code",
   "execution_count": 15,
   "metadata": {},
   "outputs": [
    {
     "name": "stdout",
     "output_type": "stream",
     "text": [
      "[<tensorflow.python.keras.layers.core.Dense object at 0x000001D0C83D3948>]\n",
      "48/48 [==============================] - 0s 4ms/step - loss: 1.0187 - accuracy: 0.8125\n"
     ]
    },
    {
     "data": {
      "text/plain": [
       "[1.0186750727395217, 0.8125]"
      ]
     },
     "execution_count": 15,
     "metadata": {},
     "output_type": "execute_result"
    }
   ],
   "source": [
    "model = tf.keras.models.load_model('6_DirectionCalssifier.h5')\n",
    "print(model.layers)\n",
    "model.evaluate(test_ds)"
   ]
  },
  {
   "cell_type": "code",
   "execution_count": null,
   "metadata": {},
   "outputs": [],
   "source": []
  }
 ],
 "metadata": {
  "kernelspec": {
   "display_name": "Python 3",
   "language": "python",
   "name": "python3"
  },
  "language_info": {
   "codemirror_mode": {
    "name": "ipython",
    "version": 3
   },
   "file_extension": ".py",
   "mimetype": "text/x-python",
   "name": "python",
   "nbconvert_exporter": "python",
   "pygments_lexer": "ipython3",
   "version": "3.7.6"
  }
 },
 "nbformat": 4,
 "nbformat_minor": 2
}
