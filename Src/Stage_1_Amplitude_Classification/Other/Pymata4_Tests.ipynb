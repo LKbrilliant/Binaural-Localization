{
 "cells": [
  {
   "cell_type": "markdown",
   "metadata": {},
   "source": [
    "# Pymata4 Tests\n",
    "\n",
    "- pymata4 need python 3.7+"
   ]
  },
  {
   "cell_type": "code",
   "execution_count": 1,
   "metadata": {
    "scrolled": true
   },
   "outputs": [
    {
     "name": "stdout",
     "output_type": "stream",
     "text": [
      "3.7.4\n"
     ]
    }
   ],
   "source": [
    "from platform import python_version\n",
    "print(python_version())"
   ]
  },
  {
   "cell_type": "markdown",
   "metadata": {},
   "source": [
    "### Tone test"
   ]
  },
  {
   "cell_type": "code",
   "execution_count": null,
   "metadata": {},
   "outputs": [],
   "source": [
    "import time\n",
    "from pymata4 import pymata4\n",
    "\n",
    "TONE_PIN=3\n",
    "board = pymata4.Pymata4()\n",
    "\n",
    "#play_tone(TONE_PIN, FREQUENCY, DURATION)\n",
    "board.set_pin_mode_tone(TONE_PIN)\n",
    "\n",
    "board.play_tone(TONE_PIN, 1000, 256)\n",
    "\n",
    "board.play_tone_off(TONE_PIN)\n",
    "\n",
    "board.shutdown()"
   ]
  },
  {
   "cell_type": "markdown",
   "metadata": {},
   "source": [
    "### Tone on button press "
   ]
  },
  {
   "cell_type": "code",
   "execution_count": null,
   "metadata": {},
   "outputs": [],
   "source": [
    "import time\n",
    "import keyboard\n",
    "from pymata4 import pymata4\n",
    "\n",
    "DIGITAL_PIN = 2\n",
    "TONE_PIN = 3\n",
    "\n",
    "def the_callback(data):\n",
    "    #data: [pin_mode, pin, current reported value, timestamp]\n",
    "    if data[2]:\n",
    "        board.play_tone(TONE_PIN, 256, 250)\n",
    "        \n",
    "board = pymata4.Pymata4()\n",
    "board.set_pin_mode_tone(TONE_PIN)\n",
    "board.set_pin_mode_digital_input(DIGITAL_PIN, callback = the_callback)\n",
    "\n",
    "while True:\n",
    "    time.sleep(1)\n",
    "    if keyboard.is_pressed('Esc'):\n",
    "        board.shutdown()\n",
    "        break"
   ]
  },
  {
   "cell_type": "code",
   "execution_count": null,
   "metadata": {},
   "outputs": [],
   "source": []
  }
 ],
 "metadata": {
  "kernelspec": {
   "display_name": "Python [conda env:tensorflow_2]",
   "language": "python",
   "name": "conda-env-tensorflow_2-py"
  },
  "language_info": {
   "codemirror_mode": {
    "name": "ipython",
    "version": 3
   },
   "file_extension": ".py",
   "mimetype": "text/x-python",
   "name": "python",
   "nbconvert_exporter": "python",
   "pygments_lexer": "ipython3",
   "version": "3.7.4"
  }
 },
 "nbformat": 4,
 "nbformat_minor": 4
}
